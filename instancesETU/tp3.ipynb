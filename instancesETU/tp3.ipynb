{
 "cells": [
  {
   "cell_type": "code",
   "execution_count": 1,
   "metadata": {},
   "outputs": [],
   "source": [
    "import Pkg; "
   ]
  },
  {
   "cell_type": "code",
   "execution_count": 2,
   "metadata": {},
   "outputs": [
    {
     "data": {
      "text/plain": [
       "readKnaptxtInstance (generic function with 1 method)"
      ]
     },
     "metadata": {},
     "output_type": "display_data"
    }
   ],
   "source": [
    "function readKnaptxtInstance(filename)\n",
    "    price=[]\n",
    "    weight=[]\n",
    "    KnapCap=[]\n",
    "    open(filename) do f\n",
    "        for i in 1:3\n",
    "            tok = split(readline(f))\n",
    "            if(tok[1] == \"ListPrices=\")\n",
    "                for i in 2:(length(tok)-1)\n",
    "                    push!(price,parse(Int64, tok[i]))\n",
    "                end\n",
    "            elseif(tok[1] == \"ListWeights=\")\n",
    "                for i in 2:(length(tok)-1)\n",
    "                    push!(weight,parse(Int64, tok[i]))\n",
    "                end\n",
    "            elseif(tok[1] == \"Capacity=\")\n",
    "                push!(KnapCap, parse(Int64, tok[2]))\n",
    "            else\n",
    "                println(\"Unknown read :\", tok)\n",
    "            end \n",
    "        end\n",
    "    end\n",
    "    capacity=KnapCap[1]\n",
    "    return price, weight, capacity\n",
    "end"
   ]
  },
  {
   "cell_type": "code",
   "execution_count": 3,
   "metadata": {},
   "outputs": [
    {
     "data": {
      "text/plain": [
       "CalculMax (generic function with 1 method)"
      ]
     },
     "metadata": {},
     "output_type": "display_data"
    }
   ],
   "source": [
    "function CalculMax(filename)\n",
    "    price, weight, capacity = readKnaptxtInstance(filename)\n",
    "    n = length(price)\n",
    "    tab_profit = zeros(length(price), capacity+1)\n",
    "    tab_solution = zeros(length(price), capacity+1)\n",
    "    len_tab = capacity + 1\n",
    "\n",
    "    # Initiate first line of tab_profit\n",
    "    for index_line in 1:n\n",
    "        for index in 1:len_tab\n",
    "            tab_profit[index_line, index] = 0\n",
    "        end\n",
    "    end\n",
    "\n",
    "    BestProfit = 0\n",
    "\n",
    "    # Compute the first line\n",
    "    if weight[1] < capacity\n",
    "        if price[1] > BestProfit\n",
    "            BestProfit = price[1]\n",
    "            line_BP = 1\n",
    "            column_BP = weight[1]+1\n",
    "        end\n",
    "        for index in weight[1]+1:len_tab\n",
    "            tab_profit[1, index] = price[1]\n",
    "            tab_solution[1, index] = 1\n",
    "        end\n",
    "    end\n",
    "\n",
    "    # Compute the end of the tab\n",
    "    for index in 2:n\n",
    "        if weight[index] < capacity\n",
    "            for index_tab in weight[index]+1:len_tab\n",
    "                \n",
    "                val1 = tab_profit[index-1, index_tab]\n",
    "                \n",
    "                # claculate val 2 corresponding to the other value of comparison\n",
    "                if index_tab-weight[index] < 0\n",
    "                    val2 = 0\n",
    "                else\n",
    "                    val2 = tab_profit[index-1, index_tab-weight[index]] + price[index]\n",
    "                end\n",
    "                \n",
    "                # Update the tab_profit and tab_solution\n",
    "                if val1 > val2\n",
    "                    val = val1\n",
    "                    tab_profit[index, index_tab] = val1\n",
    "                else\n",
    "                    val = val2\n",
    "                    tab_profit[index, index_tab] = val2\n",
    "                    tab_solution[index, index_tab] = 1\n",
    "                end\n",
    "\n",
    "                #update BestProfit\n",
    "                if val > BestProfit\n",
    "                    BestProfit = val\n",
    "                    line_BP = index\n",
    "                    column_BP = index_tab\n",
    "                end\n",
    "\n",
    "            end\n",
    "        end\n",
    "    end\n",
    "    for i in 1:n\n",
    "        println(\"tab profit (line \", i ,\" ) is: \", tab_profit[i,1:len_tab], \"\\n\")\n",
    "    end\n",
    "    for i in 1:n\n",
    "        println(\"tab solution (line \", i ,\" ) is: \", tab_solution[i,1:len_tab], \"\\n\")\n",
    "    end\n",
    "\n",
    "    # Now we need to get the highest profit\n",
    "    # initiate solution vector\n",
    "    solution = zeros(n)\n",
    "    # initiate solution\n",
    "    solution[line_BP] = tab_solution[line_BP, column_BP]\n",
    "    column_sol = column_BP\n",
    "    line_sol = line_BP\n",
    "    while (column_sol - weight[line_sol] > 0) && (line_sol > 1)\n",
    "        if tab_solution[line_sol-1, column_sol-weight[line_sol]] == 1\n",
    "            solution[line_sol-1] = 1\n",
    "            column_sol = column_sol - weight[line_sol]\n",
    "        end\n",
    "        line_sol = line_sol - 1\n",
    "    end\n",
    "\n",
    "    Bestsol = solution\n",
    "    println(\" the solution to the problem is: \", Bestsol)\n",
    "    return Bestsol, BestProfit \n",
    "end"
   ]
  },
  {
   "cell_type": "code",
   "execution_count": 17,
   "metadata": {},
   "outputs": [
    {
     "name": "stdout",
     "output_type": "stream",
     "text": [
      "tab profit (line 1 ) is: [0.0, 0.0, 0.0, 0.0, 0.0, 0.0, 0.0, 0.0, 0.0, 10.0, 10.0, 10.0, 10.0, 10.0, 10.0, 10.0]\n",
      "\n",
      "tab profit (line 2 ) is: [0.0, 0.0, 0.0, 0.0, 0.0, 0.0, 0.0, 0.0, 0.0, 0.0, 0.0, 0.0, 11.0, 11.0, 11.0, 11.0]\n",
      "\n",
      "tab profit (line 3 ) is: [0.0, 0.0, 0.0, 0.0, 0.0, 0.0, 0.0, 3.0, 3.0, 3.0, 3.0, 3.0, 11.0, 11.0, 11.0, 11.0]\n",
      "\n",
      "tab profit (line 4 ) is: [0.0, 0.0, 0.0, 0.0, 0.0, 2.0, 2.0, 3.0, 3.0, 3.0, 3.0, 3.0, 11.0, 11.0, 11.0, 11.0]\n",
      "\n",
      "tab solution (line 1 ) is: [0.0, 0.0, 0.0, 0.0, 0.0, 0.0, 0.0, 0.0, 0.0, 1.0, 1.0, 1.0, 1.0, 1.0, 1.0, 1.0]\n",
      "\n",
      "tab solution (line 2 ) is: [0.0, 0.0, 0.0, 0.0, 0.0, 0.0, 0.0, 0.0, 0.0, 0.0, 0.0, 0.0, 1.0, 1.0, 1.0, 1.0]\n",
      "\n",
      "tab solution (line 3 ) is: [0.0, 0.0, 0.0, 0.0, 0.0, 0.0, 0.0, 1.0, 1.0, 1.0, 1.0, 1.0, 0.0, 0.0, 0.0, 0.0]\n",
      "\n",
      "tab solution (line 4 ) is: [0.0, 0.0, 0.0, 0.0, 0.0, 1.0, 1.0, 0.0, 0.0, 0.0, 0.0, 0.0, 0.0, 0.0, 0.0, 0.0]\n",
      "\n",
      " the solution to the problem is: [0.0, 1.0, 0.0, 0.0]\n"
     ]
    },
    {
     "data": {
      "text/plain": [
       "([0.0, 1.0, 0.0, 0.0], 11.0)"
      ]
     },
     "metadata": {},
     "output_type": "display_data"
    }
   ],
   "source": [
    "# BestProfit, Bestsol = CalculMax(\"instancesETU/KNAPnewformat/test.opb.txt\")\n",
    "# BestProfit, Bestsol = CalculMax(\"instancesETU/KNAPnewformat/testDynamique.opb.txt\")\n",
    "BestProfit, Bestsol = CalculMax(\"instancesETU/KNAPnewformat/testRetourEnArriere.opb.txt\")"
   ]
  },
  {
   "cell_type": "code",
   "execution_count": 5,
   "metadata": {},
   "outputs": [],
   "source": []
  }
 ],
 "metadata": {
  "kernelspec": {
   "display_name": "Julia 1.8.3",
   "language": "julia",
   "name": "julia-1.8"
  },
  "language_info": {
   "file_extension": ".jl",
   "mimetype": "application/julia",
   "name": "julia",
   "version": "1.8.3"
  },
  "orig_nbformat": 4
 },
 "nbformat": 4,
 "nbformat_minor": 2
}
