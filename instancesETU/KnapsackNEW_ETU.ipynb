{
 "cells": [
  {
   "cell_type": "markdown",
   "metadata": {},
   "source": [
    "# TP 2-3 : Branch-and-bound applied to a knapsack problem"
   ]
  },
  {
   "cell_type": "markdown",
   "metadata": {},
   "source": [
    "### Initialisation (à faire une seule fois)"
   ]
  },
  {
   "cell_type": "code",
   "execution_count": 14,
   "metadata": {},
   "outputs": [],
   "source": [
    "import Pkg; \n",
    "# Pkg.add(\"GraphRecipes\"); Pkg.add(\"Plots\"); \n",
    "# using GraphRecipes, Plots #only used to visualize the search tree at the end of the branch-and-bound"
   ]
  },
  {
   "cell_type": "markdown",
   "metadata": {},
   "source": [
    "### Récupération des données"
   ]
  },
  {
   "cell_type": "code",
   "execution_count": 15,
   "metadata": {},
   "outputs": [
    {
     "data": {
      "text/plain": [
       "readKnaptxtInstance (generic function with 1 method)"
      ]
     },
     "metadata": {},
     "output_type": "display_data"
    }
   ],
   "source": [
    "function readKnaptxtInstance(filename)\n",
    "    price=[]\n",
    "    weight=[]\n",
    "    KnapCap=[]\n",
    "    open(filename) do f\n",
    "        for i in 1:3\n",
    "            tok = split(readline(f))\n",
    "            if(tok[1] == \"ListPrices=\")\n",
    "                for i in 2:(length(tok)-1)\n",
    "                    push!(price,parse(Int64, tok[i]))\n",
    "                end\n",
    "            elseif(tok[1] == \"ListWeights=\")\n",
    "                for i in 2:(length(tok)-1)\n",
    "                    push!(weight,parse(Int64, tok[i]))\n",
    "                end\n",
    "            elseif(tok[1] == \"Capacity=\")\n",
    "                push!(KnapCap, parse(Int64, tok[2]))\n",
    "            else\n",
    "                println(\"Unknown read :\", tok)\n",
    "            end \n",
    "        end\n",
    "    end\n",
    "    capacity=KnapCap[1]\n",
    "    return price, weight, capacity\n",
    "end"
   ]
  },
  {
   "cell_type": "markdown",
   "metadata": {},
   "source": [
    "### Tests de sondabilités TA, TO et TR basés sur le modèle linéaire"
   ]
  },
  {
   "cell_type": "code",
   "execution_count": 16,
   "metadata": {},
   "outputs": [
    {
     "data": {
      "text/plain": [
       "TestsSondabilite_LP (generic function with 1 method)"
      ]
     },
     "metadata": {},
     "output_type": "display_data"
    }
   ],
   "source": [
    "function TestsSondabilite_LP(x, Upper_Bound, listUB, quantity, listobjs, profit)\n",
    "    TA, TO, TR = false, false, false\n",
    "    # Test d'Admissibilité\n",
    "    if (quantity < 0)\n",
    "        TA = true\n",
    "    end\n",
    "    # Test de Résolution\n",
    "    if (length(listobjs) == length(x))\n",
    "        TR = true\n",
    "        Bestsol = x\n",
    "    end\n",
    "    # Test d'Optimalité\n",
    "    for i in 1:length(listUB)\n",
    "        if (Upper_Bound < listUB[i])\n",
    "            TO = true\n",
    "        end\n",
    "    end\n",
    "    BestProfit = profit\n",
    "    return TA, TO, TR, BestProfit\n",
    "end"
   ]
  },
  {
   "cell_type": "markdown",
   "metadata": {},
   "source": [
    "## Procédure de séparation (branching) et stratégie d'exploration permettant de se placer au prochain noeud à traiter"
   ]
  },
  {
   "cell_type": "code",
   "execution_count": 17,
   "metadata": {},
   "outputs": [
    {
     "data": {
      "text/plain": [
       "ExplorerAutreNoeud! (generic function with 1 method)"
      ]
     },
     "metadata": {},
     "output_type": "display_data"
    }
   ],
   "source": [
    "\n",
    "function SeparerNoeud_lexicographic_depthfirst!(listobjs, listvals, n)\n",
    "    i, obj = 1, 0\n",
    "    while((i <= n) && (obj==0))\n",
    "        if(!(i in listobjs))\n",
    "            obj=i\n",
    "        end\n",
    "        i+=1\n",
    "    end\n",
    "    \n",
    "    println(\"\\nbranch on object \", obj, \"\\n\")\n",
    "\n",
    "    # depthfirst exploration strategy: the node selected will be the most left of the child-nodes just created\n",
    "    push!(listobjs,obj) #save the identity of the object selected for branching\n",
    "    push!(listvals,1.0) #save the node selected, identified by the value assigned to the variable/object chosen\n",
    "end\n",
    "\n",
    "function ExplorerAutreNoeud!(listUB, listres, listprevious, listlistobjs)\n",
    "    #  Chercher le noeud dans listUB ayant la meilleure upper_bound\n",
    "    UB_temp = 0\n",
    "    index = 0\n",
    "    for i in 1:length(listUB)\n",
    "        if (listUB[i] > UB_temp)\n",
    "            UB_temp = listUB[i]\n",
    "            index = i\n",
    "        end\n",
    "    end\n",
    "    #  Mise à jour de x et de previous\n",
    "    x = listres[index]\n",
    "    previous = listprevious[index]\n",
    "    listobjs = listlistobjs[index]\n",
    "    # Mise à jour de la liste des noeuds et des upper_bounds\n",
    "    deleteat!(listUB, index)\n",
    "    deleteat!(listres, index)\n",
    "    deleteat!(listprevious, index)\n",
    "    deleteat!(listlistobjs, index)\n",
    "\n",
    "    return x, listUB, listres, listprevious, listlistobjs, listobjs, previous\n",
    "end"
   ]
  },
  {
   "cell_type": "markdown",
   "metadata": {},
   "source": [
    "###  Création de la relaxation linéaire (= modèle associé au noeud 0): <span style=\"color:red\"> SECTION A SUPPRIMER !!!! </span>\n",
    "\n",
    "<span style=\"color:red\"> Cette section est à commenter/supprimer et remplacer par vos propres calculs de bornes supérieures et autres, par exemple basées sur les bornes 1 et 2 vues en cours, ou d'autres calculs de bornes de votre choix/conception validés au préalable par votre encadrant/e de TP </span>"
   ]
  },
  {
   "cell_type": "code",
   "execution_count": 18,
   "metadata": {},
   "outputs": [
    {
     "data": {
      "text/plain": [
       "solveProblem (generic function with 1 method)"
      ]
     },
     "metadata": {},
     "output_type": "display_data"
    }
   ],
   "source": [
    "# Pkg.add(\"Clp\");\n",
    "# Pkg.add(\"JuMP\");\n",
    "# using JuMP, Clp\n",
    "\n",
    "function set_UB_M1(x, capacity, price, weight, listeobj, obj_chosen)\n",
    "    max = 0\n",
    "    new_capacity = capacity - sum(x[i]*weight[i] for i in 1:length(x))\n",
    "    for i in 1:length(listeobj)\n",
    "        if max <= price[listeobj[i]]/weight[listeobj[i]]\n",
    "            max = price[listeobj[i]]/weight[listeobj[i]]\n",
    "        end\n",
    "    end\n",
    "    if max <= price[obj_chosen]/weight[obj_chosen]\n",
    "        max = price[obj_chosen]/weight[obj_chosen]\n",
    "    end\n",
    "    return new_capacity*max\n",
    "end\n",
    "\n",
    "function set_UB_M2(x, price, weight, listeobj, obj_chosen, capacity, previous, add)\n",
    "    res = 0\n",
    "    new_capacity = capacity - sum(x[i]*weight[i] for i in 1:length(x))\n",
    "    if add == true && previous != -1\n",
    "        new_capacity = new_capacity - weight[previous]\n",
    "        if new_capacity < 0\n",
    "            res = -1\n",
    "        else\n",
    "            res = res + price[previous]\n",
    "        end\n",
    "    end\n",
    "    for i in 1:length(listeobj)\n",
    "        res = res + price[listeobj[i]]*x[listeobj[i]]\n",
    "    end\n",
    "    res = res + price[obj_chosen]*new_capacity/weight[obj_chosen]\n",
    "    return res\n",
    "end\n",
    "\n",
    "function MajModele!(x, listUB, listres, listprevious, listlistobjs, capacity, price, weight, ratio, listeobj, previous, option)\n",
    "\n",
    "    feasable = true\n",
    "    ratio_max = 0\n",
    "    obj_chosen = -1\n",
    "\n",
    "    # Choose the object with the highest ratio\n",
    "    for i in 1:length(ratio)\n",
    "        if !(i in listeobj)\n",
    "            if ratio[i] > ratio_max\n",
    "                ratio_max = ratio[i]\n",
    "                obj_chosen = i\n",
    "            end\n",
    "        end\n",
    "    end\n",
    "    bnd = -1\n",
    "\n",
    "    #MAJ de x et de listeobj\n",
    "    if (obj_chosen != -1)\n",
    "        bnd1 = -1\n",
    "        bnd0 = -1\n",
    "        if (option == \"Bound1\")\n",
    "            bnd = set_UB_M1(x, capacity, price, weight, listeobj, obj_chosen)\n",
    "        elseif (option == \"Bound2\")\n",
    "            bnd1 = set_UB_M2(x, price, weight, listeobj, obj_chosen, capacity, previous, true)\n",
    "            # println(\"bnd1 = \", bnd1)\n",
    "\n",
    "            bnd0 = set_UB_M2(x, price, weight, listeobj, obj_chosen, capacity, previous, false)\n",
    "            # println(\"bnd0 = \", bnd0)\n",
    "        end\n",
    "\n",
    "        # push!(listres, x)\n",
    "\n",
    "        # maj x et tout le Reste \n",
    "        if (bnd1 > bnd0)\n",
    "            # ajouter bnd0 à liste bounds\n",
    "            push!(listUB, bnd0)\n",
    "            #  ajouter x à la liste des noeuds à traiter\n",
    "            copy_x = copy(x)\n",
    "            listres = push!(listres, copy_x)\n",
    "            \n",
    "            x[previous] = 1\n",
    "            bnd = bnd1\n",
    "        else\n",
    "            # ajouter bnd1 à liste bounds\n",
    "            push!(listUB, bnd1)\n",
    "            #  Modier x avant de l'ajouter à la liste des noeuds à traiter\n",
    "            x[previous] = 1\n",
    "            copy_x = copy(x)\n",
    "            push!(listres, copy_x)\n",
    "\n",
    "            x[previous] = 0\n",
    "            bnd = bnd0\n",
    "        end\n",
    "        copy_listobjs = copy(listeobj)\n",
    "        push!(listlistobjs, copy_listobjs)\n",
    "        push!(listeobj, obj_chosen)\n",
    "        push!(listprevious, previous)\n",
    "\n",
    "    else\n",
    "        feasable = false\n",
    "    end\n",
    "\n",
    "    return bnd, x, listUB, listres, listprevious, listlistobjs, listeobj, feasable, obj_chosen\n",
    "end\n",
    "\n",
    "function solveProblem(x, capacity, constraints, objective)\n",
    "\n",
    "    quantity = capacity - constraints(x)\n",
    "    profit = objective(x)\n",
    "\n",
    "    return profit, quantity\n",
    "end"
   ]
  },
  {
   "cell_type": "markdown",
   "metadata": {},
   "source": [
    "### Boucle principale : résoudre une relaxation, appliquer les tests de sondabilité, identifier le prochain noeud, répéter."
   ]
  },
  {
   "cell_type": "code",
   "execution_count": 22,
   "metadata": {},
   "outputs": [
    {
     "data": {
      "text/plain": [
       "SolveKnapInstance (generic function with 1 method)"
      ]
     },
     "metadata": {},
     "output_type": "display_data"
    }
   ],
   "source": [
    "function SolveKnapInstance(filename)\n",
    "\n",
    "    price, weight, capacity = readKnaptxtInstance(filename)\n",
    "    n = length(price)\n",
    "\n",
    "    # Définir x, contraintes et fonction objectif\n",
    "    x = zeros(n)\n",
    "    # contrainte 1: somme de Weight * x <= capacity\n",
    "    # contrainte 2: x = {0 ou 1}\n",
    "    constraints(y) = sum(weight[i]*y[i] for i in 1:n)\n",
    "    # fonction objectif: x*price (max)\n",
    "    objective(y) = sum(price[i]*y[i] for i in 1:n)\n",
    "    # Calculer le rapport price/weight\n",
    "    ratio = zeros(n)\n",
    "    for i in 1:n\n",
    "        ratio[i] = price[i]/weight[i]\n",
    "    end\n",
    "\n",
    "    #create the structure to memorize the search tree for visualization at the end\n",
    "    trParentnodes=Int64[] #will store orig node of arc in search tree\n",
    "    trChildnodes=Int64[] #will store destination node of arc in search tree\n",
    "    trNamenodes=[] #will store names of nodes in search tree\n",
    "\n",
    "    #intermediate structure to navigate in the search tree\n",
    "    listobjs=[]\n",
    "    listUB=[]\n",
    "    listres=[]\n",
    "    listnodes=[]\n",
    "    listprevious=[]\n",
    "    listlistobjs=[]\n",
    "\n",
    "    BestProfit=-1\n",
    "    Bestsol=[]\n",
    "\n",
    "    current_node_number=0\n",
    "    stop = false\n",
    "    obj_chosen = -1\n",
    "    ratio_max = 0\n",
    "\n",
    "    for i in 1:length(ratio)\n",
    "        if ratio[i] > ratio_max\n",
    "            ratio_max = ratio[i]\n",
    "            obj_chosen = i\n",
    "        end\n",
    "    end\n",
    "\n",
    "    previous = obj_chosen\n",
    "    Upper_Bound = price[obj_chosen]/weight[obj_chosen]*capacity\n",
    "    push!(listobjs, obj_chosen)\n",
    "\n",
    "    while(!stop)\n",
    "\n",
    "        println(\"\\nNode number \", current_node_number, \": \\n---------------\\n\")\n",
    "\n",
    "        Upper_Bound, x, listUB, listres, listprevious, listlistobjs, listobjs, feasable, previous = MajModele!(x, listUB, listres, listprevious, listlistobjs, capacity, price, weight, ratio, listobjs, previous, \"Bound2\")\n",
    "        println(\"listobjs = \", listobjs)\n",
    "        println(\"The new Upper bound is \", Upper_Bound)\n",
    "\n",
    "        # create a new node (choose an object and compute the profit value)\n",
    "        profit, quantity = solveProblem(x, capacity, constraints, objective)\n",
    "\n",
    "        TA, TO, TR, BestProfit = TestsSondabilite_LP(x, Upper_Bound, listUB, quantity, listobjs, profit)\n",
    "\n",
    "        # is_node_sondable = TA || TO || TR\n",
    "        not_result = TA || TO\n",
    "\n",
    "        if(not_result)\n",
    "            println(\"blabla\")\n",
    "            # Chercher la UB max\n",
    "            UB_temp = 0\n",
    "            index = 0\n",
    "            for i in 1:length(listUB)\n",
    "                if listUB[i] > UB_temp\n",
    "                    UB_temp = listUB[i]\n",
    "                    index = i\n",
    "                end\n",
    "            end\n",
    "            x = listres[index]\n",
    "            previous = listprevious[index]\n",
    "            listobjs = listlistobjs[index]\n",
    "            deleteat!(listres, index)\n",
    "            deleteat!(listUB, index)\n",
    "            deleteat!(listprevious, index)\n",
    "            deleteat!(listlistobjs, index)\n",
    "        elseif (TR)\n",
    "            stop = true\n",
    "        end\n",
    "        Bestsol = x\n",
    "        current_node_number = current_node_number + 1\n",
    "    end\n",
    "\n",
    "    println(\"\\n******\\n\\nOptimal value = \", BestProfit, \"\\n\\nOptimal x=\", Bestsol)\n",
    "\n",
    "    return BestProfit, Bestsol, trParentnodes, trChildnodes, trNamenodes\n",
    "\n",
    "end\n"
   ]
  },
  {
   "cell_type": "markdown",
   "metadata": {},
   "source": [
    "### Affichage du résultat final"
   ]
  },
  {
   "cell_type": "code",
   "execution_count": 23,
   "metadata": {},
   "outputs": [
    {
     "name": "stdout",
     "output_type": "stream",
     "text": [
      "\n",
      "Node number 0: \n",
      "---------------\n",
      "\n",
      "listobjs = Any[2, 1]\n",
      "The new Upper bound is 76.0\n",
      "x = [0.0, 1.0, 0.0, 0.0]\n",
      "\n",
      "Node number 1: \n",
      "---------------\n",
      "\n",
      "listobjs = Any[2, 1, 4]\n",
      "The new Upper bound is 70.0\n",
      "x = [0.0, 1.0, 0.0, 0.0]\n",
      "\n",
      "Node number 2: \n",
      "---------------\n",
      "\n",
      "listobjs = Any[2, 1, 4, 3]\n",
      "The new Upper bound is 69.0\n",
      "x = [0.0, 1.0, 0.0, 1.0]\n",
      "\n",
      "******\n",
      "\n",
      "Optimal value = 65.0\n",
      "\n",
      "Optimal x=Any[]\n",
      "\n",
      "******\n",
      "\n",
      "Optimal value = 65.0\n",
      "\n",
      "Optimal x=Any[]\n"
     ]
    }
   ],
   "source": [
    "BestProfit, Bestsol, trParentnodes, trChildnodes, trNamenodes = SolveKnapInstance(\"instancesETU/KNAPnewformat/test.opb.txt\")\n",
    "println(\"\\n******\\n\\nOptimal value = \", BestProfit, \"\\n\\nOptimal x=\", Bestsol)\n",
    "# graphplot(trParentnodes, trChildnodes, names=trNamenodes, method=:tree)"
   ]
  },
  {
   "cell_type": "code",
   "execution_count": 21,
   "metadata": {},
   "outputs": [],
   "source": []
  }
 ],
 "metadata": {
  "kernelspec": {
   "display_name": "Julia 1.8.3",
   "language": "julia",
   "name": "julia-1.8"
  },
  "language_info": {
   "file_extension": ".jl",
   "mimetype": "application/julia",
   "name": "julia",
   "version": "1.8.3"
  }
 },
 "nbformat": 4,
 "nbformat_minor": 4
}
