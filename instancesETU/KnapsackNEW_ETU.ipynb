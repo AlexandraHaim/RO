{
 "cells": [
  {
   "cell_type": "markdown",
   "metadata": {},
   "source": [
    "# TP 2-3 : Branch-and-bound applied to a knapsack problem"
   ]
  },
  {
   "cell_type": "markdown",
   "metadata": {},
   "source": [
    "### Initialisation (à faire une seule fois)"
   ]
  },
  {
   "cell_type": "code",
   "execution_count": 9,
   "metadata": {},
   "outputs": [],
   "source": [
    "import Pkg; \n",
    "# Pkg.add(\"GraphRecipes\"); Pkg.add(\"Plots\"); \n",
    "# using GraphRecipes, Plots #only used to visualize the search tree at the end of the branch-and-bound"
   ]
  },
  {
   "cell_type": "markdown",
   "metadata": {},
   "source": [
    "### Récupération des données"
   ]
  },
  {
   "cell_type": "code",
   "execution_count": 10,
   "metadata": {},
   "outputs": [
    {
     "data": {
      "text/plain": [
       "readKnaptxtInstance (generic function with 1 method)"
      ]
     },
     "metadata": {},
     "output_type": "display_data"
    }
   ],
   "source": [
    "function readKnaptxtInstance(filename)\n",
    "    price=[]\n",
    "    weight=[]\n",
    "    KnapCap=[]\n",
    "    open(filename) do f\n",
    "        for i in 1:3\n",
    "            tok = split(readline(f))\n",
    "            if(tok[1] == \"ListPrices=\")\n",
    "                for i in 2:(length(tok)-1)\n",
    "                    push!(price,parse(Int64, tok[i]))\n",
    "                end\n",
    "            elseif(tok[1] == \"ListWeights=\")\n",
    "                for i in 2:(length(tok)-1)\n",
    "                    push!(weight,parse(Int64, tok[i]))\n",
    "                end\n",
    "            elseif(tok[1] == \"Capacity=\")\n",
    "                push!(KnapCap, parse(Int64, tok[2]))\n",
    "            else\n",
    "                println(\"Unknown read :\", tok)\n",
    "            end \n",
    "        end\n",
    "    end\n",
    "    capacity=KnapCap[1]\n",
    "    return price, weight, capacity\n",
    "end"
   ]
  },
  {
   "cell_type": "markdown",
   "metadata": {},
   "source": [
    "### Tests de sondabilités TA, TO et TR basés sur le modèle linéaire"
   ]
  },
  {
   "cell_type": "code",
   "execution_count": 11,
   "metadata": {},
   "outputs": [
    {
     "data": {
      "text/plain": [
       "TestsSondabilite_LP (generic function with 1 method)"
      ]
     },
     "metadata": {},
     "output_type": "display_data"
    }
   ],
   "source": [
    "function TestsSondabilite_LP(x, Upper_Bound, listUB, quantity, listobjs)\n",
    "    TA, TO, TR = false, false, false\n",
    "    # Test d'Admissibilité\n",
    "    if (quantity < 0)\n",
    "        TA = true\n",
    "    end\n",
    "    # Test de Résolution\n",
    "    if (length(listobjs) >= length(x))\n",
    "        TR = true\n",
    "    end\n",
    "    # Test d'Optimalité\n",
    "    for i in 1:length(listUB)\n",
    "        if (Upper_Bound < listUB[i])\n",
    "            TO = true\n",
    "            println(\"bjr, petit problème de borne\")\n",
    "        end\n",
    "    end\n",
    "    return TA, TO, TR\n",
    "end"
   ]
  },
  {
   "cell_type": "markdown",
   "metadata": {},
   "source": [
    "## Procédure de séparation (branching) et stratégie d'exploration permettant de se placer au prochain noeud à traiter"
   ]
  },
  {
   "cell_type": "code",
   "execution_count": 12,
   "metadata": {},
   "outputs": [],
   "source": []
  },
  {
   "cell_type": "markdown",
   "metadata": {},
   "source": [
    "###  Création de la relaxation linéaire (= modèle associé au noeud 0): <span style=\"color:red\"> SECTION A SUPPRIMER !!!! </span>\n",
    "\n",
    "<span style=\"color:red\"> Cette section est à commenter/supprimer et remplacer par vos propres calculs de bornes supérieures et autres, par exemple basées sur les bornes 1 et 2 vues en cours, ou d'autres calculs de bornes de votre choix/conception validés au préalable par votre encadrant/e de TP </span>"
   ]
  },
  {
   "cell_type": "code",
   "execution_count": 20,
   "metadata": {},
   "outputs": [
    {
     "data": {
      "text/plain": [
       "solveProblem (generic function with 1 method)"
      ]
     },
     "metadata": {},
     "output_type": "display_data"
    }
   ],
   "source": [
    "function set_UB_M1(x, price, weight, listeobj, obj_chosen, capacity, previous, add)\n",
    "    res = 0\n",
    "    new_capacity = capacity - sum(x[i]*weight[i] for i in 1:length(x))\n",
    "    if add == true && previous != -1\n",
    "        new_capacity = new_capacity - weight[previous]\n",
    "        if new_capacity < 0\n",
    "            res = -1000\n",
    "        else\n",
    "            res = res + price[previous]\n",
    "        end\n",
    "    end\n",
    "    for i in 1:length(listeobj)\n",
    "        res = res + price[listeobj[i]]*x[listeobj[i]]\n",
    "    end\n",
    "    if (obj_chosen != -1)\n",
    "        res = res + price[obj_chosen]*new_capacity/weight[obj_chosen]\n",
    "    end\n",
    "    return res\n",
    "end\n",
    "\n",
    "\n",
    "function set_UB_M2(x, price, weight, ratio, listeobj, obj_chosen, capacity, previous)\n",
    "    res = 0\n",
    "    new_capacity = capacity - sum(x[i]*weight[i] for i in 1:length(x))\n",
    "    listeobjAdd = copy(listeobj)\n",
    "\n",
    "    if previous != -1\n",
    "        # We add the previous object in the backpack\n",
    "        capacity_add = new_capacity - weight[previous]\n",
    "        if (capacity_add > 0)\n",
    "            if length(listeobjAdd) < length(x)\n",
    "                while (capacity_add - weight[obj_chosen] < 0) && (length(listeobjAdd) < length(x))\n",
    "                    println(\"there is too much crap in this backpack, \", capacity_add, \" don't add up \", weight[obj_chosen])\n",
    "                    # add the obj chosen to the list of objects already used/analysed\n",
    "                    push!(listeobjAdd, obj_chosen)\n",
    "                    println(\"listeobjAdd = \", listeobjAdd)\n",
    "                    # We look for the next object with the highest ratio\n",
    "                    ratio_max = 0\n",
    "                    for i in 1:length(ratio)\n",
    "                        if !(i in listeobjAdd)\n",
    "                            if ratio[i] > ratio_max\n",
    "                                ratio_max = ratio[i]\n",
    "                                obj_chosen = i\n",
    "                            end\n",
    "                        end\n",
    "                    end\n",
    "                end\n",
    "                if (capacity_add - weight[obj_chosen] >= 0)\n",
    "                    push!(listeobjAdd, obj_chosen)\n",
    "                end\n",
    "                println(\"New obj chosen is \", obj_chosen)\n",
    "            end\n",
    "\n",
    "            for i in 1:length(listeobj)\n",
    "                res = res + price[listeobj[i]]*x[listeobj[i]]\n",
    "            end\n",
    "\n",
    "            if previous != -2\n",
    "                if capacity_add - weight[obj_chosen] > 0 \n",
    "                    bnd1 = res + price[previous] + price[obj_chosen]*capacity_add/weight[obj_chosen]\n",
    "                    bnd0 = res + price[obj_chosen]*new_capacity/weight[obj_chosen]\n",
    "                else\n",
    "                    bnd1 = res + price[previous]\n",
    "                    bnd0 = res + price[obj_chosen]*new_capacity/weight[obj_chosen]\n",
    "                end\n",
    "            else\n",
    "                if capacity_add - weight[obj_chosen] > 0 \n",
    "                    bnd1 = res + price[obj_chosen]*capacity_add/weight[obj_chosen]\n",
    "                    bnd0 = res + price[obj_chosen]*new_capacity/weight[obj_chosen]\n",
    "                else\n",
    "                    bnd1 = res\n",
    "                    bnd0 = res + price[obj_chosen]*new_capacity/weight[obj_chosen]\n",
    "                end\n",
    "            end\n",
    "        else\n",
    "            bnd1 = -1000\n",
    "            for i in 1:length(listeobj)\n",
    "                res = res + price[listeobj[i]]*x[listeobj[i]]\n",
    "            end\n",
    "            bnd0 = res + price[obj_chosen]*new_capacity/weight[obj_chosen]\n",
    "        end\n",
    "    end\n",
    "\n",
    "\n",
    "    return bnd0, bnd1, listeobjAdd, listeobj, obj_chosen\n",
    "\n",
    "end\n",
    "\n",
    "\n",
    "function MajModele!(x, listUB, listres, listprevious, listlistobjs, capacity, price, weight, ratio, listeobj, previous, option)\n",
    "\n",
    "    feasable = true\n",
    "    ratio_max = 0\n",
    "    obj_chosen = -1\n",
    "    return_listObj = listeobj\n",
    "\n",
    "    # Choose the object with the highest ratio\n",
    "    for i in 1:length(ratio)\n",
    "        if !(i in listeobj)\n",
    "            if ratio[i] > ratio_max\n",
    "                ratio_max = ratio[i]\n",
    "                obj_chosen = i\n",
    "            end\n",
    "        end\n",
    "    end\n",
    "    bnd = -1\n",
    "\n",
    "    #MAJ de x et de listeobj\n",
    "    if (obj_chosen != -1)\n",
    "        bnd1 = -1\n",
    "        bnd0 = -1\n",
    "        if (option == \"Bound1\")\n",
    "            bnd1 = set_UB_M1(x, price, weight, listeobj, obj_chosen, capacity, previous, true)\n",
    "            bnd0 = set_UB_M1(x, price, weight, listeobj, obj_chosen, capacity, previous, false)\n",
    "            liste_Obj_Add = copy(listeobj)\n",
    "            push!(liste_Obj_Add, obj_chosen)\n",
    "            push!(listeobj, obj_chosen)\n",
    "        elseif (option == \"Bound2\")\n",
    "            bnd0, bnd1, liste_Obj_Add, listeobj, obj_chosen = set_UB_M2(x, price, weight, ratio, listeobj, obj_chosen, capacity, previous)\n",
    "            push!(listeobj, obj_chosen)\n",
    "        end\n",
    "\n",
    "        # maj x et tout le Reste \n",
    "        if (bnd1 > bnd0)\n",
    "            # ajouter bnd0 à liste bounds\n",
    "            push!(listUB, bnd0)\n",
    "            # stocker l'environement du noeud sans ajout de l'objet précedent analysé\n",
    "            push!(listlistobjs, listeobj)\n",
    "            #  ajouter x à la liste des noeuds à traiter\n",
    "            copy_x = copy(x)\n",
    "            println(\"petit test de copy \", copy_x)\n",
    "            listres = push!(listres, copy_x)\n",
    "            \n",
    "            x[previous] = 1\n",
    "            println(\"fin du petit test de copy \", listres)\n",
    "            bnd = bnd1\n",
    "            # MAJ de listeobj\n",
    "            return_listObj = liste_Obj_Add\n",
    "        else\n",
    "            # ajouter bnd1 à liste bounds\n",
    "            push!(listUB, bnd1)\n",
    "            # stocker l'environement du noeud sans ajout de l'objet précedent analysé\n",
    "            push!(listlistobjs, liste_Obj_Add)\n",
    "            #  Modier x avant de l'ajouter à la liste des noeuds à traiter\n",
    "            x[previous] = 1\n",
    "            copy_x = copy(x)\n",
    "            push!(listres, copy_x)\n",
    "\n",
    "            x[previous] = 0\n",
    "            bnd = bnd0\n",
    "\n",
    "            # MAJ de listeobj\n",
    "            return_listObj = listeobj\n",
    "        end\n",
    "\n",
    "        push!(listprevious, obj_chosen)\n",
    "\n",
    "    else\n",
    "        feasable = false\n",
    "    end\n",
    "\n",
    "    return bnd, x, listUB, listres, listprevious, listlistobjs, return_listObj, feasable, obj_chosen\n",
    "end\n",
    "\n",
    "function solveProblem(x, capacity, constraints, objective)\n",
    "\n",
    "    quantity = capacity - constraints(x)\n",
    "    profit = objective(x)\n",
    "\n",
    "    return profit, quantity\n",
    "end"
   ]
  },
  {
   "cell_type": "markdown",
   "metadata": {},
   "source": [
    "### Boucle principale : résoudre une relaxation, appliquer les tests de sondabilité, identifier le prochain noeud, répéter."
   ]
  },
  {
   "cell_type": "code",
   "execution_count": 18,
   "metadata": {},
   "outputs": [
    {
     "data": {
      "text/plain": [
       "SolveKnapInstance (generic function with 1 method)"
      ]
     },
     "metadata": {},
     "output_type": "display_data"
    }
   ],
   "source": [
    "function SolveKnapInstance(filename, borne_Opt)\n",
    "\n",
    "    price, weight, capacity = readKnaptxtInstance(filename)\n",
    "    n = length(price)\n",
    "\n",
    "    # Définir x, contraintes et fonction objectif\n",
    "    x = zeros(n)\n",
    "    # contrainte 1: somme de Weight * x <= capacity\n",
    "    # contrainte 2: x = {0 ou 1}\n",
    "    constraints(y) = sum(weight[i]*y[i] for i in 1:n)\n",
    "    # fonction objectif: x*price (max)\n",
    "    objective(y) = sum(price[i]*y[i] for i in 1:n)\n",
    "    # Calculer le rapport price/weight\n",
    "    ratio = zeros(n)\n",
    "    for i in 1:n\n",
    "        ratio[i] = price[i]/weight[i]\n",
    "    end\n",
    "\n",
    "    #intermediate structure to navigate in the search tree\n",
    "    listobjs=[]\n",
    "    listUB=[]\n",
    "    listres=[]\n",
    "    listprevious=[]\n",
    "    listlistobjs=[]\n",
    "\n",
    "    BestProfit=-1\n",
    "    Bestsol=[]\n",
    "\n",
    "    current_node_number=0\n",
    "    stop = false\n",
    "    obj_chosen = -1\n",
    "    ratio_max = 0\n",
    "\n",
    "    for i in 1:length(ratio)\n",
    "        if ratio[i] > ratio_max\n",
    "            ratio_max = ratio[i]\n",
    "            obj_chosen = i\n",
    "        end\n",
    "    end\n",
    "\n",
    "    previous = obj_chosen\n",
    "    if borne_Opt == \"Bound1\"\n",
    "        Upper_Bound = set_UB_M1(x, price, weight, listobjs, obj_chosen, capacity, previous, false)\n",
    "    elseif borne_Opt == \"Bound2\"\n",
    "        Upper_Bound, bnd1, listeobjAdd, listobjs, obj_chosen = set_UB_M2(x, price, weight, ratio, listobjs, obj_chosen, capacity, previous)\n",
    "    end\n",
    "\n",
    "    push!(listobjs, obj_chosen)\n",
    "    \n",
    "    while(!stop)\n",
    "\n",
    "        println(\"\\nNode number \", current_node_number, \": \\n---------------\\n\")\n",
    "\n",
    "        Upper_Bound, x, listUB, listres, listprevious, listlistobjs, listobjs, feasable, previous = \n",
    "            MajModele!(x, listUB, listres, listprevious, listlistobjs, capacity, price, weight, ratio, listobjs, previous, borne_Opt)\n",
    "        println(\"listobjs = \", listobjs)\n",
    "        println(\"The new Upper bound is \", Upper_Bound)\n",
    "        println(\"liste des upper bound is:\", listUB)\n",
    "        println(\"liste des previous associé is:\", listprevious)\n",
    "\n",
    "        # create a new node (choose an object and compute the profit value)\n",
    "        profit, quantity = solveProblem(x, capacity, constraints, objective)\n",
    "\n",
    "        TA, TO, TR = TestsSondabilite_LP(x, Upper_Bound, listUB, quantity, listobjs)\n",
    "\n",
    "        # is_node_sondable = TA || TO || TR\n",
    "        not_result = TA || TO\n",
    "\n",
    "        if(not_result)\n",
    "            # Chercher la UB max\n",
    "            if TA\n",
    "                UB_temp = 0\n",
    "            else\n",
    "                UB_temp = copy(Upper_Bound)\n",
    "            end\n",
    "\n",
    "            index = 0\n",
    "            for i in 1:length(listUB)\n",
    "                if listUB[i] > UB_temp\n",
    "                    UB_temp = listUB[i]\n",
    "                    index = i\n",
    "                end\n",
    "            end\n",
    "            if TO\n",
    "                x_temp = copy(x)\n",
    "                previous_temp = copy(previous)\n",
    "                listobjs_temp = copy(listobjs)\n",
    "                Upper_bound_temp = copy(Upper_Bound)\n",
    "            end\n",
    "\n",
    "            Upper_Bound = listUB[index]\n",
    "            x = listres[index]\n",
    "            previous = listprevious[index]\n",
    "            listobjs = listlistobjs[index]\n",
    "            deleteat!(listres, index)\n",
    "            deleteat!(listUB, index)\n",
    "            deleteat!(listprevious, index)\n",
    "            deleteat!(listlistobjs, index)\n",
    "            println(\"we did a little update\")\n",
    "            println(\"new x is \", x)\n",
    "            println(\"new liste obj is \", listobjs)\n",
    "            println(\"new previous is \", previous)\n",
    "            if TO\n",
    "                # update the list adding the old nNode\n",
    "                push!(listlistobjs, listobjs_temp)\n",
    "                push!(listres, x_temp)\n",
    "                push!(listUB, Upper_bound_temp)\n",
    "                push!(listprevious, previous_temp)\n",
    "            end\n",
    "        elseif (TR)\n",
    "            println(\"I am here\")\n",
    "            stop = true\n",
    "            bnd0 = -1\n",
    "            bnd1 = -1\n",
    "            last_obj = listobjs[length(listobjs)]\n",
    "            \n",
    "            # last calculus\n",
    "            println(\"obj_chosen is \", last_obj)\n",
    "            bnd1 = set_UB_M1(x, price, weight, listobjs, -1 , capacity, last_obj, true)\n",
    "            bnd0 = set_UB_M1(x, price, weight, listobjs, -1 , capacity, last_obj, false)\n",
    "            println(\"bnd0 is \", bnd0, \" and bnd1 is \", bnd1)\n",
    "            \n",
    "            if (bnd1 > bnd0)\n",
    "                x[last_obj] = 1\n",
    "            end\n",
    "            BestProfit = objective(x)\n",
    "        end\n",
    "        Bestsol = x\n",
    "        current_node_number = current_node_number + 1\n",
    "    end\n",
    "\n",
    "    println(\"\\n******\\n\\nOptimal value = \", BestProfit, \"\\n\\nOptimal x=\", Bestsol)\n",
    "\n",
    "    return BestProfit, Bestsol\n",
    "\n",
    "end\n"
   ]
  },
  {
   "cell_type": "markdown",
   "metadata": {},
   "source": [
    "### Affichage du résultat final"
   ]
  },
  {
   "cell_type": "code",
   "execution_count": 24,
   "metadata": {},
   "outputs": [
    {
     "name": "stdout",
     "output_type": "stream",
     "text": [
      "\n",
      "Node number 0: \n",
      "---------------\n",
      "\n",
      "petit test de copy [0.0, 0.0, 0.0, 0.0]\n",
      "fin du petit test de copy Any[[0.0, 0.0, 0.0, 0.0]]\n",
      "listobjs = Any[1, 2]\n",
      "The new Upper bound is 15.5\n",
      "liste des upper bound is:Any[13.75]\n",
      "liste des previous associé is:Any[2]\n",
      "\n",
      "Node number 1: \n",
      "---------------\n",
      "\n",
      "listobjs = Any[1, 2, 3]\n",
      "The new Upper bound is 12.571428571428571\n",
      "liste des upper bound is:Any[13.75, -992.5714285714286]\n",
      "liste des previous associé is:Any[2, 3]\n",
      "bjr, petit problème de borne\n",
      "we did a little update\n",
      "new x is [0.0, 0.0, 0.0, 0.0]\n",
      "new liste obj is Any[1, 2]\n",
      "new previous is 2\n",
      "\n",
      "Node number 2: \n",
      "---------------\n",
      "\n",
      "petit test de copy [0.0, 0.0, 0.0, 0.0]\n",
      "fin du petit test de copy Any[[1.0, 1.0, 0.0, 0.0], [1.0, 0.0, 0.0, 0.0], [0.0, 0.0, 0.0, 0.0]]\n",
      "listobjs = Any[1, 2, 3]\n",
      "The new Upper bound is 12.285714285714286\n",
      "liste des upper bound is:Any[-992.5714285714286, 12.571428571428571, 6.428571428571429]\n",
      "liste des previous associé is:Any[3, 3, 3]\n",
      "bjr, petit problème de borne\n",
      "we did a little update\n",
      "new x is [1.0, 0.0, 0.0, 0.0]\n",
      "new liste obj is Any[1, 2, 3]\n",
      "new previous is 3\n",
      "\n",
      "Node number 3: \n",
      "---------------\n",
      "\n",
      "listobjs = Any[1, 2, 3, 4]\n",
      "The new Upper bound is 12.4\n",
      "liste des upper bound is:Any[-992.5714285714286, 6.428571428571429, 12.285714285714286, -990.4]\n",
      "liste des previous associé is:Any[3, 3, 3, 4]\n",
      "I am here\n",
      "obj_chosen is 4\n",
      "bnd0 is 10.0 and bnd1 is 12.0\n",
      "\n",
      "******\n",
      "\n",
      "Optimal value = 12.0\n",
      "\n",
      "Optimal x=[1.0, 0.0, 0.0, 1.0]\n"
     ]
    },
    {
     "data": {
      "text/plain": [
       "(12.0, [1.0, 0.0, 0.0, 1.0])"
      ]
     },
     "metadata": {},
     "output_type": "display_data"
    }
   ],
   "source": [
    "# BestProfit, Bestsol = SolveKnapInstance(\"instancesETU/KNAPnewformat/test.opb.txt\", \"Bound1\")\n",
    "BestProfit, Bestsol = SolveKnapInstance(\"instancesETU/KNAPnewformat/testRetourEnArriere.opb.txt\", \"Bound1\")\n",
    "# println(\"\\n******\\n\\nOptimal value = \", BestProfit, \"\\n\\nOptimal x=\", Bestsol)\n",
    "# graphplot(trParentnodes, trChildnodes, names=trNamenodes, method=:tree)"
   ]
  },
  {
   "cell_type": "code",
   "execution_count": 16,
   "metadata": {},
   "outputs": [
    {
     "name": "stdout",
     "output_type": "stream",
     "text": [
      "New obj chosen is 1\n"
     ]
    },
    {
     "ename": "BoundsError",
     "evalue": "BoundsError: attempt to access Float64 at index [2]",
     "output_type": "error",
     "traceback": [
      "BoundsError: attempt to access Float64 at index [2]\n",
      "\n",
      "Stacktrace:\n",
      " [1] indexed_iterate(I::Float64, i::Int64, state::Nothing)\n",
      "   @ Base ./tuple.jl:97\n",
      " [2] SolveKnapInstance(filename::String, borne_Opt::String)\n",
      "   @ Main ~/Documents/2A/RO/TP2/RO/instancesETU/KnapsackNEW_ETU.ipynb:45\n",
      " [3] top-level scope\n",
      "   @ ~/Documents/2A/RO/TP2/RO/instancesETU/KnapsackNEW_ETU.ipynb:3"
     ]
    }
   ],
   "source": [
    "\n",
    "# BestProfit, Bestsol = SolveKnapInstance(\"instancesETU/KNAPnewformat/test.opb.txt\", \"Bound2\")\n",
    "BestProfit, Bestsol = SolveKnapInstance(\"instancesETU/KNAPnewformat/testRetourEnArriere.opb.txt\", \"Bound2\")"
   ]
  }
 ],
 "metadata": {
  "kernelspec": {
   "display_name": "Julia 1.8.3",
   "language": "julia",
   "name": "julia-1.8"
  },
  "language_info": {
   "file_extension": ".jl",
   "mimetype": "application/julia",
   "name": "julia",
   "version": "1.8.3"
  }
 },
 "nbformat": 4,
 "nbformat_minor": 4
}
