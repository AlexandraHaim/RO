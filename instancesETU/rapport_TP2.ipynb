{
 "cells": [
  {
   "attachments": {},
   "cell_type": "markdown",
   "metadata": {},
   "source": [
    "---\n",
    "<h1><center>RECHECHE OPERATIONNELLE : Branch and Bound</center></h1>\n",
    "\n",
    "<h3><center> Zoé Coste, Alexandra Haim </center></h3>\n",
    "\n",
    "<h3><center> 2022-2023 </h3></center>\n",
    "\n",
    "---"
   ]
  },
  {
   "attachments": {},
   "cell_type": "markdown",
   "metadata": {},
   "source": [
    "# Questions préliminaires\n",
    "<div style=\"text-indent: 20px;\"><strong> 1. Règle de séparation : </strong></div>\n",
    "<div style=\"text-indent: 40px;\"> On traite le premier objet non traité de la liste ordonnée (ordre lexicographique). </div><br>\n",
    "\n",
    "<div style=\"text-indent: 20px;\"><strong> 2. Calcul de la borne supérieure : </strong></div>\n",
    "<div style=\"text-indent: 40px;\"> Pour chaque noeud créé, nous calculons la borne supérieure associée avec la fonction \"objective_value\" du module juMP. Ensuite, si la borne supérieure calculée est supérieure à celle gardée en mémoire, nous remplaçons la valeur de la borne supérieure gardée en mémoire par celle nouvellement calculée. </div><br>\n",
    "\n",
    "<div style=\"text-indent: 20px;\"><strong> 3. Tests de sondabilité : </strong></div>\n",
    "<ul>\n",
    "   <li> TA : nous appelons la fonction \"terminaison_status\" du module MathOptInterface. Si le statut retourné est \"infeasible\", TA est vrai. </li>\n",
    "   <li> TO : si la borne supérieure calculée est inférieure à celle enregistrée, alors TO est vrai. </li>\n",
    "   <li> TR : Lorsqu'un objet est traité, sa valeur associée x est non nulle. Si l'une des valeurs de x est nulle (dans le code <= 10e-5), il reste encore des objet à traiter, alors TR est vrai. </li>\n",
    "</ul>\n",
    "<br>\n",
    "\n",
    "<div style=\"text-indent: 20px;\"><strong> 4. Stratégie d'exploration : </strong></div>\n",
    "<div style=\"text-indent: 40px;\"> La stratégie est la suivante : choisir le noeud de gauche, puis celui de droite. Si il n'y a plus de noeud sur la droite, remonter aux parents pour reprendre celui de droite. </div><br>\n",
    "\n"
   ]
  },
  {
   "attachments": {},
   "cell_type": "markdown",
   "metadata": {},
   "source": [
    "# Code et analyse\n",
    "<div style=\"text-indent: 20px;\"><strong> 3. Points clés de l'implantation : </strong></div><br>\n",
    "<div style=\"text-indent: 40px;\"> \n",
    "   <li> Règle de séparation : A chaque étape de séparation, nous choisissons d'étudier l'objet ayant le meilleur ratio (prix/poids). Nous faisons cette étape au début de notre fonction MajModele qui appelle les fonctions de calcul de borne supérieure et qui permet de mettre à jour toutes les varaibles. </li> \n",
    "   <li> TA : Le test d'admissibilité est vérifié si la capacité restante lors de l'ajout de l'objet est négative. </li>\n",
    "   <li> TO : Le test d'optimalité est vérifié s'il exite un autre noeud parmi ceux créés mais non explorés ayant une meilleure borne supérieure. </li>\n",
    "   <li> TR : Le test de résolution est vérifié s'il n'y a plus d'objet à explorer. </li>\n",
    "   <li> Stratégie d'exploration : Lorsque nous avons le test d'optimalité qui est vrai, nous changeons de noeud pour aller sur celui ayant la meilleure borne supérieure. Ceci est réalisé à la fin du progrgamme principal, à la suite des tests de sondabilité.\n",
    "   <strong> Attention : </strong> nous avons utilisé notre propre règle d'exploration, nous n'utilisons plus celle en profondeur. </li>\n",
    "\n",
    "   <strong> Remarque : </strong> Nous utilisons un big M pour discréditer un noeud lorsque TR est vérifié. Nous l'avons choisi assez grand (1000), mais sa valuer peut être modifiée si nécessaire selon les tests.\n",
    " \n",
    " </div><br>\n",
    "\n",
    "<div style=\"text-indent: 20px;\"><strong> 4. Choix des structures de données : </strong></div>\n",
    "<div style=\"text-indent: 40px;\"> \n",
    "   Pour réaliser cet algorithme, nous avons choisi d'introduire les structures de données suivantes : \n",
    "   <li> x : liste binaire de la taille du nombre d'objets (1 si l'objet est dans le sac, 0 sinon). </li>\n",
    "   <li> ratio : contient la liste des ratios. </li>\n",
    "   <li> listobjs : liste permmettant de sauvegarder les objets traités au noeud actuel, qu'ils aient été rajoutés dans le sac ou non. </li>\n",
    "   <li> listUB : liste des bornes supérieures calculées. Elle est mise à jour à chaque création d'un nouveau noeud. </li>\n",
    "   <li> listres : liste contenant les valeurs de x pour les bornes supérieures sauvegardées. Cette liste nous permet de retrouver le contexte du noeud qui avait été sauvegardé. </li>\n",
    "   <li> listprevious : nous ajoutons à cette liste la valeur de l'objet qui a été choisi pour arriver au noeud courant de façon à pouvoir retrouver le même contexte lorsque l'on a changé de noeud. </li>\n",
    "   <li> listlistobjs : tout comme les listes précédentes, celle-ci permet de sauvegarder le contexte (la liste des listes d'objets déjà traités). </li>\n",
    "\n",
    "   <strong> Remarque : </strong> il est nécessaire de push et pop dans les listes listUB, listres, listprevious et listlistobjs de façon synchronisée pour récupérer le contexte d'un même noeud.\n",
    "\n",
    " </div><br>\n",
    "\n",
    "<div style=\"text-indent: 20px;\"><strong> 5. Comparaison des performances : </strong></div>\n",
    "   Nous avons réalisé une dizaine de tests pour comparer les performances des deux méthodes de calcul de borne supérieure.<br>\n",
    "   Avec des tests simples :<br>\n",
    "   - celui du cours : nous obtenons les mêmes résultats pour les deux bornes, cependant le nombre de noeuds est plus petit pour le choix de la borne 2 (5 contre 3).<br>\n",
    "   - un exemple de notre invention qui change de branche par TO : mêmes résultats pour les deux bornes, et même constation concernant le nombre de noeuds (6 contre 3).<br>\n",
    "   Finalement nous avons comparé l'efficacité des deux bornes en lançant les algorithmes avec des tests plus complexes. Voici un tableau récapitulatif de l'ensemble de nos résultats :\n",
    "\n",
    "Tableau1 : Tableau récapitulatif du nombre de noeuds selon la borne supérieure choisie\n",
    "| Tests            | Nombre de noeuds pour la Borne 1 | Nombre de noeuds pour la Borne 2 | Maximum Obtenu |\n",
    "|:----------------:|:--------------------------------:|:--------------------------------:|:--------------:|\n",
    "| exemple du cours | 5                                | 3                                | 65.0           |\n",
    "| test changement de branche| 6                                | 3                                | 12.0           |\n",
    "| uncorrelated     | 614                              | 584                              | 11503.0        |\n",
    "| circle           | 613                              | 598                              | 4694.0         |\n",
    "| similar_weights  | 51                               | 2                                | 995.0          |\n",
    "| weakly_correlated| 51                               | 38                               | 1396.0         |\n",
    "| profit_ceiling   | 37                               | 34                               | 996.0          |\n",
    "| subset_sum       | 52                               | 49                               | 617.0          |\n",
    "| inverse_strongly_correlated     | 51                              | 3                                | 994.0 |\n",
    "| multiple_strongly_correlated    | 77                              | 43                               | 1472.0 |\n",
    "\n",
    "Grâce à ces tests, nous pouvons en déduire que la borne 2 permet de créer moins de noeuds que la borne 1. De plus, celle-ci est d'autant plus efficace que les poids son similaires. \n",
    "Cette observation était attendue puisqu'avec la borne 2, nous ne sélectionnons pas un objet s'il conduit à valider TR. Il y a ainsi moins de noeuds créés.\n",
    "Il est donc plus avantageux de choisir la borne 2 pour la résolution de ces problèmes.\n"
   ]
  },
  {
   "cell_type": "markdown",
   "metadata": {},
   "source": []
  }
 ],
 "metadata": {
  "kernelspec": {
   "display_name": "Julia 1.8.2",
   "language": "julia",
   "name": "julia-1.8"
  },
  "language_info": {
   "file_extension": ".jl",
   "mimetype": "application/julia",
   "name": "julia",
   "version": "1.8.3"
  },
  "orig_nbformat": 4
 },
 "nbformat": 4,
 "nbformat_minor": 2
}
