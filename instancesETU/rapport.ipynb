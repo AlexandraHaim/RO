{
 "cells": [
  {
   "attachments": {},
   "cell_type": "markdown",
   "metadata": {},
   "source": [
    "# TP: Branch and bound\n",
    "\n",
    "# Questions préliminaires\n",
    "\n",
    "1. On traite le premier objet non traité de la liste ordonnée (ordre lexicographique).\n",
    "2. Pour chaque noeud créé, nous calculons la borne supérieure associée avec la fonction \"objective_value\" du module juMP. Ensuite, si la borne supérieure calculée est supérieure à celle gardée en mémoire, nous remplaçons la valeur de la borne supérieure gardée en mémoire par celle nouvellement calculée.\n",
    "3. Les tests de sondabilité sont les suivants :\n",
    "   - TA : nous appelons la fonction \"terminaison_status\" du module MathOptInterface. Si le statut retourné est \"infeasible\", TA est vrai.\n",
    "   - TO : si la borne supérieure calculée est inférieure à celle enregistrée, alors TO est vrai.\n",
    "   - TR : Lorsqu'un objet est traité, sa valeur associée x est non nulle. Si l'une des valeurs de x est nulle (dans le code <= 10e-5), il reste encore des objet à traiter, alors TR est vrai.\n",
    "4. La stratégie d'exploration est la suivante : choisir le noeud de gauche, puis aller à droite. Si il n'y a plus de noeud sur la droite, remonter aux parents pour reprendre à droite."
   ]
  }
 ],
 "metadata": {
  "kernelspec": {
   "display_name": "Julia 1.8.3",
   "language": "julia",
   "name": "julia-1.8"
  },
  "language_info": {
   "file_extension": ".jl",
   "mimetype": "application/julia",
   "name": "julia",
   "version": "1.8.3"
  },
  "orig_nbformat": 4
 },
 "nbformat": 4,
 "nbformat_minor": 2
}
