{
 "cells": [
  {
   "attachments": {},
   "cell_type": "markdown",
   "metadata": {},
   "source": [
    "---\n",
    "<h1><center>RECHECHE OPERATIONNELLE : Branch and Bound</center></h1>\n",
    "\n",
    "<h3><center> Zoé Coste, Alexandra Haim </center></h3>\n",
    "\n",
    "<h3><center> 2022-2023 </h3></center>\n",
    "\n",
    "---\n",
    "\n",
    "# Questions préliminaires\n",
    "<div style=\"text-indent: 20px;\"><strong> 1. Règle de séparation : </strong></div>\n",
    "<div style=\"text-indent: 40px;\"> On traite le premier objet non traité de la liste ordonnée (ordre lexicographique). </div><br>\n",
    "\n",
    "<div style=\"text-indent: 20px;\"><strong> 2. Calcul de la borne supérieure : </strong></div>\n",
    "<div style=\"text-indent: 40px;\"> Pour chaque noeud créé, nous calculons la borne supérieure associée avec la fonction \"objective_value\" du module juMP. Ensuite, si la borne supérieure calculée est supérieure à celle gardée en mémoire, nous remplaçons la valeur de la borne supérieure gardée en mémoire par celle nouvellement calculée. </div><br>\n",
    "\n",
    "<div style=\"text-indent: 20px;\"><strong> 3. Tests de sondabilité : </strong></div>\n",
    "<ul>\n",
    "   <li> TA : nous appelons la fonction \"terminaison_status\" du module MathOptInterface. Si le statut retourné est \"infeasible\", TA est vrai. </li>\n",
    "   <li> TO : si la borne supérieure calculée est inférieure à celle enregistrée, alors TO est vrai. </li>\n",
    "   <li> TR : Lorsqu'un objet est traité, sa valeur associée x est non nulle. Si l'une des valeurs de x est nulle (dans le code <= 10e-5), il reste encore des objet à traiter, alors TR est vrai. </li>\n",
    "</ul>\n",
    "<br>\n",
    "\n",
    "<div style=\"text-indent: 20px;\"><strong> 4. Stratégie d'exploration : </strong></div>\n",
    "<div style=\"text-indent: 40px;\"> La stratégie est la suivante : choisir le noeud de gauche, puis celui de droite. Si il n'y a plus de noeud sur la droite, remonter aux parents pour reprendre celui de droite. </div><br>\n",
    "\n",
    "\n",
    "# Code et analyse\n",
    "<div style=\"text-indent: 20px;\"><strong> 3. Points clés de l'implantation : </strong></div>\n",
    "<div style=\"text-indent: 40px;\"> \n",
    "   ...\n",
    " </div><br>\n",
    "\n",
    "<div style=\"text-indent: 20px;\"><strong> 4. Choix des structures de données : </strong></div>\n",
    "<div style=\"text-indent: 40px;\"> \n",
    "   ...\n",
    " </div><br>\n",
    "\n",
    "<div style=\"text-indent: 20px;\"><strong> 5. Comparaison des performances : </strong></div>\n",
    "<div style=\"text-indent: 40px;\"> \n",
    "   ...\n",
    "</div><br>"
   ]
  },
  {
   "cell_type": "markdown",
   "metadata": {},
   "source": []
  }
 ],
 "metadata": {
  "kernelspec": {
   "display_name": "Julia 1.8.3",
   "language": "julia",
   "name": "julia-1.8"
  },
  "language_info": {
   "file_extension": ".jl",
   "mimetype": "application/julia",
   "name": "julia",
   "version": "1.8.3"
  },
  "orig_nbformat": 4
 },
 "nbformat": 4,
 "nbformat_minor": 2
}
