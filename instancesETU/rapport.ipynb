{
 "cells": [
  {
   "attachments": {},
   "cell_type": "markdown",
   "metadata": {},
   "source": [
    "---\n",
    "<h1><center>RECHECHE OPERATIONNELLE : Branch and Bound</center></h1>\n",
    "\n",
    "<h3><center> Zoé Coste, Alexandra Haim </center></h3>\n",
    "\n",
    "<h3><center> 2022-2023 </h3></center>\n",
    "\n",
    "---\n",
    "\n",
    "# Questions préliminaires\n",
    "<div style=\"text-indent: 20px;\"><strong> 1. Règle de séparation : </strong></div>\n",
    "<div style=\"text-indent: 40px;\"> On traite le premier objet non traité de la liste ordonnée (ordre lexicographique). </div><br>\n",
    "\n",
    "<div style=\"text-indent: 20px;\"><strong> 2. Calcul de la borne supérieure : </strong></div>\n",
    "<div style=\"text-indent: 40px;\"> Pour chaque noeud créé, nous calculons la borne supérieure associée avec la fonction \"objective_value\" du module juMP. Ensuite, si la borne supérieure calculée est supérieure à celle gardée en mémoire, nous remplaçons la valeur de la borne supérieure gardée en mémoire par celle nouvellement calculée. </div><br>\n",
    "\n",
    "<div style=\"text-indent: 20px;\"><strong> 3. Tests de sondabilité : </strong></div>\n",
    "<ul>\n",
    "   <li> TA : nous appelons la fonction \"terminaison_status\" du module MathOptInterface. Si le statut retourné est \"infeasible\", TA est vrai. </li>\n",
    "   <li> TO : si la borne supérieure calculée est inférieure à celle enregistrée, alors TO est vrai. </li>\n",
    "   <li> TR : Lorsqu'un objet est traité, sa valeur associée x est non nulle. Si l'une des valeurs de x est nulle (dans le code <= 10e-5), il reste encore des objet à traiter, alors TR est vrai. </li>\n",
    "</ul>\n",
    "<br>\n",
    "\n",
    "<div style=\"text-indent: 20px;\"><strong> 4. Stratégie d'exploration : </strong></div>\n",
    "<div style=\"text-indent: 40px;\"> La stratégie est la suivante : choisir le noeud de gauche, puis celui de droite. Si il n'y a plus de noeud sur la droite, remonter aux parents pour reprendre celui de droite. </div><br>\n",
    "\n",
    "\n",
    "# Code et analyse\n",
    "<div style=\"text-indent: 20px;\"><strong> 3. Points clés de l'implantation : </strong></div><br>\n",
    "<div style=\"text-indent: 40px;\"> \n",
    "   <ul>\n",
    "      <li> Règle de séparation : A chaque étape de séparation, nous choisissons d'étudier l'objet ayant le meilleur ratio (prix/poids). Nous faisons cette étape au début de notre fonction MajModele qui appelle les fonctions de calcul de borne supérieure et qui permet de mettre à jour toutes les varaibles. </li> \n",
    "      <li> TA : Le test d'admissibilité est vérifié si la capacité restante lors de l'ajout de l'objet est négative. </li>\n",
    "      <li> TO : Le test d'optimalité est vérifié s'il exite un autre noeud parmi ceux créés mais non explorés ayant une meilleure borne supérieure. </li>\n",
    "      <li> TR : Le test de résolution est vérifié s'il n'y a plus d'objet à explorer. </li>\n",
    "      <li> Stratégie d'exploration : Lorsque nous avons le test d'optimalité qui est vrai, nous changeons de noeud pour aller sur celui ayant la meilleure borne supérieure. Ceci est réalisé à le fin du progrgamme principal, à la suite des tests de sondabilité. </li>\n",
    "   </ul>\n",
    " </div><br>\n",
    "\n",
    "<div style=\"text-indent: 20px;\"><strong> 4. Choix des structures de données : </strong></div>\n",
    "<div style=\"text-indent: 40px;\"> \n",
    "   Pour réaliser cet algorithme, nous avons choisi d'introduire les structures de données suivantes : \n",
    "   <ul>\n",
    "      <li> x : liste binaire de la taille du nombre d'objets (1 si l'objet est dans le sac, 0 sinon). </li>\n",
    "      <li> ratio : contient la liste des ratios. </li>\n",
    "      <li> listobjs : liste permmettant de sauvegarder les objets traités au noeud actuel, qu'ils aient été rajoutés dans le sac ou non. </li>\n",
    "      <li> listUB : liste des bornes supérieures calculées. Elle est mise à jour à chaque création d'un nouveau noeud. </li>\n",
    "      <li> listres : liste contenant les valeurs de x pour les bornes supérieures sauvegardées. Cette liste nous permet de retrouver le contexte du noeud qui avait été sauvegardé. </li>\n",
    "   </ul>\n",
    " </div><br>\n",
    "\n",
    "<div style=\"text-indent: 20px;\"><strong> 5. Comparaison des performances : </strong></div>\n",
    "<div style=\"text-indent: 40px;\"> \n",
    "   ...\n",
    "</div><br>"
   ]
  },
  {
   "cell_type": "markdown",
   "metadata": {},
   "source": []
  }
 ],
 "metadata": {
  "kernelspec": {
   "display_name": "Julia 1.8.3",
   "language": "julia",
   "name": "julia-1.8"
  },
  "language_info": {
   "file_extension": ".jl",
   "mimetype": "application/julia",
   "name": "julia",
   "version": "1.8.3"
  },
  "orig_nbformat": 4
 },
 "nbformat": 4,
 "nbformat_minor": 2
}
