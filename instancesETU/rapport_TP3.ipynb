{
 "cells": [
  {
   "attachments": {},
   "cell_type": "markdown",
   "metadata": {},
   "source": [
    "---\n",
    "<h1><center>RECHECHE OPERATIONNELLE : Programmation dynamique </center></h1>\n",
    "\n",
    "<h3><center> Zoé Coste, Alexandra Haim </center></h3>\n",
    "\n",
    "<h3><center> 2022-2023 </h3></center>\n",
    "\n",
    "---\n"
   ]
  },
  {
   "attachments": {},
   "cell_type": "markdown",
   "metadata": {},
   "source": [
    "## Principe de l'algorithme de programmation dynamique\n",
    "\n",
    "Pour résoudre le probème du sac à dos avec l'algorithme de programmation dynamique nous commençons par construire un tableau qui contient le meilleur profit pour chaque cas traité.<br>\n",
    "\n",
    "Les lignes du tableau représentent les objets disponibles. <br>\n",
    "Les colonnes du tableau représentent la Capacité du sac en commençant par la capacité nulle jusu'à la capacité du problème. <br>\n",
    "\n",
    "Chaque case correspond au meilleur profit qu'il est possible de faire avec les objets de la ligne courante et des lignes supérieures pour un problème dont la capacité est égale à la colonne courante plus un (parce que le tableau commence avec la capacité du sac à dos égale à 0).<br>\n",
    "\n",
    "Une fois que nous avons construit le tableau, nous récupérons la case avec la valeurs la plus élevée et nous retraçons son chemin pour trouver la solution du problème.<br>\n",
    " Le profit est égal à la valeur maximum du tableau. <br>\n",
    "\n",
    "## Architecture de notre algorithme\n",
    "\n",
    "Pour implémenter cet algorithme, nous avons commencé par définir les paramètres dont nous aurons besoin: le tableau \n",
    "\n",
    "## Test et analyse des résultats\n",
    "\n",
    "// TO SAY ==> ON TROUVE LES MEMES RESULTATS A CHAQUE FOIS ON EST CONTENTES //"
   ]
  }
 ],
 "metadata": {
  "language_info": {
   "name": "python"
  },
  "orig_nbformat": 4
 },
 "nbformat": 4,
 "nbformat_minor": 2
}
